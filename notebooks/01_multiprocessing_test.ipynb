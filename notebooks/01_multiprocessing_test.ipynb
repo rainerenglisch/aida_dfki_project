{
 "cells": [
  {
   "cell_type": "code",
   "execution_count": 2,
   "metadata": {},
   "outputs": [
    {
     "name": "stdout",
     "output_type": "stream",
     "text": [
      "I'm process 134497\n",
      "I'm process 134496\n",
      "I'm process 134498\n",
      "I'm process 134500\n",
      "I'm process 134499\n",
      "\n",
      "\n",
      "\n",
      "\n",
      "\n",
      "[2, 4, 6, 8, 10]\n"
     ]
    }
   ],
   "source": [
    "from multiprocessing import set_start_method\n",
    "#set_start_method(\"spawn\")\n",
    "from multiprocessing import get_context\n",
    "from multiprocessing import Pool\n",
    "from os import getpid\n",
    "\n",
    "def double(i):\n",
    "    print(f\"I'm process {getpid()}\\n\")\n",
    "    return i * 2\n",
    "\n",
    "if __name__ == '__main__':\n",
    "    with get_context().Pool() as pool:\n",
    "        result = pool.map(double, [1, 2, 3, 4, 5])\n",
    "        print(result)"
   ]
  },
  {
   "cell_type": "code",
   "execution_count": null,
   "metadata": {},
   "outputs": [],
   "source": []
  }
 ],
 "metadata": {
  "kernelspec": {
   "display_name": "Python 3",
   "language": "python",
   "name": "python3"
  },
  "language_info": {
   "codemirror_mode": {
    "name": "ipython",
    "version": 3
   },
   "file_extension": ".py",
   "mimetype": "text/x-python",
   "name": "python",
   "nbconvert_exporter": "python",
   "pygments_lexer": "ipython3",
   "version": "3.7.7"
  }
 },
 "nbformat": 4,
 "nbformat_minor": 4
}
